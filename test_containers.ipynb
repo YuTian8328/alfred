{
 "cells": [
  {
   "cell_type": "code",
   "execution_count": 10,
   "id": "5b5a7e51-3df6-4a1d-a37f-a315601e8d44",
   "metadata": {},
   "outputs": [
    {
     "name": "stdout",
     "output_type": "stream",
     "text": [
      "srun: slurm_job_submit: Automatically setting partition to: batch-hsw,batch-bdw,batch-csl,batch-skl,batch-milan\n",
      "srun: job 3829379 queued and waiting for resources\n",
      "srun: job 3829379 has been allocated resources\n",
      "_XSERVTransmkdir: ERROR: euid != 0,directory /tmp/.X11-unix will not be created.\n",
      "starting...\n",
      "OpenGL renderer: OpenGL renderer string: llvmpipe (LLVM 15.0.7, 256 bits)\n",
      "DEBUG:ai2thor.controller:/home/tiany4/.ai2thor/releases/thor-201909061227-Linux64/thor-201909061227-Linux64 exists - skipping download\n",
      "Found path: /home/tiany4/.ai2thor/releases/thor-201909061227-Linux64/thor-201909061227-Linux64\n",
      "Mono path[0] = '/home/tiany4/.ai2thor/releases/thor-201909061227-Linux64/thor-201909061227-Linux64_Data/Managed'\n",
      "Mono config path = '/home/tiany4/.ai2thor/releases/thor-201909061227-Linux64/thor-201909061227-Linux64_Data/Mono/etc'\n",
      "Preloaded 'ScreenSelector.so'\n",
      "Display 0 'screen': 1024x768 (primary device).\n",
      "Logging to /home/tiany4/.config/unity3d/Allen Institute for Artificial Intelligence/AI2-Thor/Player.log\n",
      "ALSA lib confmisc.c:855:(parse_card) cannot find card '0'\n",
      "ALSA lib conf.c:5178:(_snd_config_evaluate) function snd_func_card_inum returned error: No such file or directory\n",
      "ALSA lib confmisc.c:422:(snd_func_concat) error evaluating strings\n",
      "ALSA lib conf.c:5178:(_snd_config_evaluate) function snd_func_concat returned error: No such file or directory\n",
      "ALSA lib confmisc.c:1334:(snd_func_refer) error evaluating name\n",
      "ALSA lib conf.c:5178:(_snd_config_evaluate) function snd_func_refer returned error: No such file or directory\n",
      "ALSA lib conf.c:5701:(snd_config_expand) Evaluate error: No such file or directory\n",
      "ALSA lib pcm.c:2664:(snd_pcm_open_noupdate) Unknown PCM default\n",
      "ALSA lib confmisc.c:855:(parse_card) cannot find card '0'\n",
      "ALSA lib conf.c:5178:(_snd_config_evaluate) function snd_func_card_inum returned error: No such file or directory\n",
      "ALSA lib confmisc.c:422:(snd_func_concat) error evaluating strings\n",
      "ALSA lib conf.c:5178:(_snd_config_evaluate) function snd_func_concat returned error: No such file or directory\n",
      "ALSA lib confmisc.c:1334:(snd_func_refer) error evaluating name\n",
      "ALSA lib conf.c:5178:(_snd_config_evaluate) function snd_func_refer returned error: No such file or directory\n",
      "ALSA lib conf.c:5701:(snd_config_expand) Evaluate error: No such file or directory\n",
      "ALSA lib pcm.c:2664:(snd_pcm_open_noupdate) Unknown PCM default\n",
      "Initialized AI2-THOR with NVIDIA EGL successfully!!!\n",
      "(300, 300, 3)\n",
      "Everything works!!!\n",
      "GPU available: False\n",
      "INFO:    Terminating squashfuse_ll after timeout\n",
      "INFO:    Timeouts can be caused by a running background process\n"
     ]
    }
   ],
   "source": [
    "!srun --cpus-per-task=4 apptainer exec Vgl-Egl-Xvfb.sif ./test_container_cpu.sh\n",
    "# llvmpipe means rendering with cpus"
   ]
  },
  {
   "cell_type": "code",
   "execution_count": 5,
   "id": "f877a79f-eb4f-4b2d-a7d6-8479135fe474",
   "metadata": {},
   "outputs": [
    {
     "name": "stdout",
     "output_type": "stream",
     "text": [
      "srun: slurm_job_submit: Automatically setting partition to: gpu-p100-16g,gpu-v100-16g,gpu-v100-32g,gpu-a100-80g\n",
      "srun: job 3822247 queued and waiting for resources\n",
      "srun: job 3822247 has been allocated resources\n",
      "_XSERVTransmkdir: ERROR: euid != 0,directory /tmp/.X11-unix will not be created.\n",
      "starting...\n",
      "OpenGL renderer: OpenGL renderer string: Tesla V100-SXM2-16GB/PCIe/SSE2\n",
      "DEBUG:ai2thor.controller:/home/tiany4/.ai2thor/releases/thor-201909061227-Linux64/thor-201909061227-Linux64 exists - skipping download\n",
      "Found path: /home/tiany4/.ai2thor/releases/thor-201909061227-Linux64/thor-201909061227-Linux64\n",
      "Mono path[0] = '/home/tiany4/.ai2thor/releases/thor-201909061227-Linux64/thor-201909061227-Linux64_Data/Managed'\n",
      "Mono config path = '/home/tiany4/.ai2thor/releases/thor-201909061227-Linux64/thor-201909061227-Linux64_Data/Mono/etc'\n",
      "Preloaded 'ScreenSelector.so'\n",
      "Display 0 'screen': 1024x768 (primary device).\n",
      "Logging to /home/tiany4/.config/unity3d/Allen Institute for Artificial Intelligence/AI2-Thor/Player.log\n",
      "ALSA lib confmisc.c:855:(parse_card) cannot find card '0'\n",
      "ALSA lib conf.c:5178:(_snd_config_evaluate) function snd_func_card_inum returned error: No such file or directory\n",
      "ALSA lib confmisc.c:422:(snd_func_concat) error evaluating strings\n",
      "ALSA lib conf.c:5178:(_snd_config_evaluate) function snd_func_concat returned error: No such file or directory\n",
      "ALSA lib confmisc.c:1334:(snd_func_refer) error evaluating name\n",
      "ALSA lib conf.c:5178:(_snd_config_evaluate) function snd_func_refer returned error: No such file or directory\n",
      "ALSA lib conf.c:5701:(snd_config_expand) Evaluate error: No such file or directory\n",
      "ALSA lib pcm.c:2664:(snd_pcm_open_noupdate) Unknown PCM default\n",
      "ALSA lib confmisc.c:855:(parse_card) cannot find card '0'\n",
      "ALSA lib conf.c:5178:(_snd_config_evaluate) function snd_func_card_inum returned error: No such file or directory\n",
      "ALSA lib confmisc.c:422:(snd_func_concat) error evaluating strings\n",
      "ALSA lib conf.c:5178:(_snd_config_evaluate) function snd_func_concat returned error: No such file or directory\n",
      "ALSA lib confmisc.c:1334:(snd_func_refer) error evaluating name\n",
      "ALSA lib conf.c:5178:(_snd_config_evaluate) function snd_func_refer returned error: No such file or directory\n",
      "ALSA lib conf.c:5701:(snd_config_expand) Evaluate error: No such file or directory\n",
      "ALSA lib pcm.c:2664:(snd_pcm_open_noupdate) Unknown PCM default\n",
      "Initialized AI2-THOR with NVIDIA EGL successfully!!!\n",
      "(300, 300, 3)\n",
      "Everything works!!!\n",
      "GPU available: True\n",
      "INFO:    Terminating squashfuse_ll after timeout\n",
      "INFO:    Timeouts can be caused by a running background process\n"
     ]
    }
   ],
   "source": [
    "!srun --gpus=1 --mem=50GB apptainer exec --nv Vgl-Egl-Xvfb.sif ./test_container_gpu.sh"
   ]
  },
  {
   "cell_type": "code",
   "execution_count": null,
   "id": "a36e5681-7f6d-4adb-a9e0-18a4a69bb2a1",
   "metadata": {},
   "outputs": [],
   "source": []
  }
 ],
 "metadata": {
  "kernelspec": {
   "display_name": "Python generic (scicomp-python-env/2024-01)",
   "language": "python",
   "name": "python3"
  },
  "language_info": {
   "codemirror_mode": {
    "name": "ipython",
    "version": 3
   },
   "file_extension": ".py",
   "mimetype": "text/x-python",
   "name": "python",
   "nbconvert_exporter": "python",
   "pygments_lexer": "ipython3",
   "version": "3.11.9"
  }
 },
 "nbformat": 4,
 "nbformat_minor": 5
}
